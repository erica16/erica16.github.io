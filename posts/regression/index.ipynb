{
  "cells": [
    {
      "cell_type": "raw",
      "metadata": {},
      "source": [
        "---\n",
        "title: Quarto Basics\n",
        "format:\n",
        "  html:\n",
        "    code-fold: true\n",
        "editor:\n",
        "  render-on-save: true\n",
        "---"
      ],
      "id": "844d39a8"
    },
    {
      "cell_type": "code",
      "metadata": {},
      "source": [
        "import matplotlib.pyplot as plt\n",
        "import numpy as np\n",
        "import pandas as pd\n",
        "from sklearn.linear_model import LinearRegression\n",
        "from sklearn.model_selection import train_test_split\n",
        "from sklearn.impute import SimpleImputer\n",
        "from sklearn.metrics import r2_score\n",
        "\n",
        "\n",
        "happy_csv = 'https://raw.githubusercontent.com/erica16/ml1_blogs/main/data/happiness-cantril-ladder.csv'\n",
        "renew_csv ='https://raw.githubusercontent.com/erica16/ml1_blogs/main/data/renewable-share-energy.csv'\n",
        "\n",
        "# read in datasets\n",
        "happy_df = pd.read_csv(happy_csv)\n",
        "renew_df = pd.read_csv(renew_csv)\n",
        "\n",
        "# clean data\n",
        "\n",
        "# filter to 2022\n",
        "happy_2022 = happy_df.loc[happy_df['Year'] == 2022]\n",
        "renew_2022 = renew_df.loc[renew_df['Year'] == 2022]\n",
        "\n",
        "# merge dfs on country\n",
        "happy_renew_df = happy_2022.merge(renew_2022, on='Entity')\n",
        "\n",
        "happy_renew_nums = happy_renew_df.select_dtypes(include=[np.number])\n",
        "imputer = SimpleImputer(strategy=\"median\")\n",
        "imputer.fit(happy_renew_nums)\n",
        "happy_renew_imputed = imputer.transform(happy_renew_nums)\n",
        "\n",
        "\n",
        "# prepare data for training\n",
        "train_set, test_set = train_test_split(happy_renew_df_noNa, test_size=0.2, random_state=42)\n",
        "min_max_scaler = MinMaxScaler(feature_range=(-1, 1))\n",
        "happy_renew_scaled = min_max_scaler.fit_transform(happy_renew_imputed)\n",
        "\n",
        "\n",
        "happy_renew_df[happy_renew_nums.columns] = happy_renew_imputed\n",
        "\n",
        "\n",
        "# linear regression\n",
        "model = LinearRegression()\n",
        "model.fit(train_set)\n",
        "\n",
        "predicted = model.predict(test_set)\n",
        "\n",
        "plt.scatter()\n",
        "plt.plot(test_set, predicted)\n",
        "plt.show()"
      ],
      "id": "a997dc73",
      "execution_count": null,
      "outputs": []
    }
  ],
  "metadata": {
    "kernelspec": {
      "name": "python3",
      "language": "python",
      "display_name": "Python 3 (ipykernel)"
    }
  },
  "nbformat": 4,
  "nbformat_minor": 5
}