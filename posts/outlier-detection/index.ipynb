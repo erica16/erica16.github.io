{
  "cells": [
    {
      "cell_type": "raw",
      "metadata": {},
      "source": [
        "---\n",
        "title: Quarto Basics\n",
        "format:\n",
        "  html:\n",
        "    code-fold: true\n",
        "editor:\n",
        "  render-on-save: true\n",
        "---"
      ],
      "id": "7b6521ee"
    },
    {
      "cell_type": "code",
      "metadata": {},
      "source": [
        "import matplotlib.pyplot as plt\n",
        "import numpy as np\n",
        "import pandas as pd\n",
        "from sklearn.linear_model import LinearRegression\n",
        "\n",
        "data_root = 'https://github.com/erica16/ml1_blogs/blob/main/data/'\n",
        "emissions_fi = pd.read_csv(data_root + 'historical_emissions.csv')\n",
        "\n",
        "X = lifesat[[\"Country\"]].values\n",
        "y = lifesat[[\"2018\"]].values\n",
        "\n",
        "# Visualize the data\n",
        "lifesat.plot(kind='scatter', grid=True,\n",
        "             x=\"Country\", y=\"2018 CO2\")\n",
        "plt.axis([23_500, 62_500, 4, 9])\n",
        "plt.show()"
      ],
      "id": "f3a87cce",
      "execution_count": null,
      "outputs": []
    }
  ],
  "metadata": {
    "kernelspec": {
      "name": "python3",
      "language": "python",
      "display_name": "Python 3 (ipykernel)"
    }
  },
  "nbformat": 4,
  "nbformat_minor": 5
}